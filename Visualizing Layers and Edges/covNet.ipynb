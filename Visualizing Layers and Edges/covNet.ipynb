{
 "cells": [
  {
   "cell_type": "code",
   "execution_count": null,
   "metadata": {
    "collapsed": true
   },
   "outputs": [],
   "source": [
    "#visualizing the image within the covnet layers\n",
    "from keras.layers import Input, Conv2D, MaxPooling2D\n",
    "from keras.models import Model\n",
    "import numpy as np\n",
    "import matplotlib.pyplot as plt\n",
    "from PIL import Image\n",
    "from skimage import io, color\n",
    "import matplotlib.image as mpimg"
   ]
  },
  {
   "cell_type": "code",
   "execution_count": null,
   "metadata": {
    "collapsed": true
   },
   "outputs": [],
   "source": [
    "def rgb2gray(rgb):\n",
    "    return np.dot(rgb[...,:3], [0.299, 0.587, 0.114])\n",
    "\n",
    "def img_read(no_gray):\n",
    "    img = mpimg.imread(r'C:\\Users\\user\\Desktop\\Abhilash\\Imp\\Deep_Learning\\Neural Networks\\CNN\\Images and Networks\\Visualizing Edges\\Images\\test3.jpg')     \n",
    "    if no_gray==0:\n",
    "        gray = rgb2gray(img)\n",
    "    else:\n",
    "        gray = img        \n",
    "    if __name__==\"__main__\":\n",
    "        plt.imshow(gray, cmap = plt.get_cmap('gray'))\n",
    "        #plt.colorbar()\n",
    "        #plt.show()\n",
    "        plt.savefig('grayscale.pdf')\n",
    "    \n",
    "    return gray"
   ]
  },
  {
   "cell_type": "code",
   "execution_count": null,
   "metadata": {
    "collapsed": true
   },
   "outputs": [],
   "source": []
  }
 ],
 "metadata": {
  "kernelspec": {
   "display_name": "Python 3",
   "language": "python",
   "name": "python3"
  },
  "language_info": {
   "codemirror_mode": {
    "name": "ipython",
    "version": 3
   },
   "file_extension": ".py",
   "mimetype": "text/x-python",
   "name": "python",
   "nbconvert_exporter": "python",
   "pygments_lexer": "ipython3",
   "version": "3.6.1"
  }
 },
 "nbformat": 4,
 "nbformat_minor": 2
}
